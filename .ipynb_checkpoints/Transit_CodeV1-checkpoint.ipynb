{
 "cells": [
  {
   "cell_type": "markdown",
   "id": "1d0cef21-2a59-48b2-a7d2-f970323111f7",
   "metadata": {},
   "source": [
    "This notebook is aiming to tease out the causes and trends among crashes in Chicago, answering questions such as: \n",
    "    • When and where are crashes most likely?\n",
    "    • What types of crashes are most likely? \n",
    "    • Do you see any actionable insights for the CTA?\n",
    "    \n",
    "The data for this effort is soruced from Chicago Data Portal [Traffic Crashes](https://data.cityofchicago.org/Transportation/Traffic-Crashes-Crashes/85ca-t3if/data). We'll use the API endpoint to retrive the data. Lastly we will track code changes and host this code on github. This will ensure access to the public."
   ]
  },
  {
   "cell_type": "code",
   "execution_count": null,
   "id": "c82c1a78-fe1e-4a6e-a048-dec40e1fd197",
   "metadata": {},
   "outputs": [],
   "source": [
    "https://data.cityofchicago.org/resource/85ca-t3if.json\n",
    "\n"
   ]
  },
  {
   "cell_type": "code",
   "execution_count": null,
   "id": "cc2cffdb-4816-4013-b814-8f1b494b5aa1",
   "metadata": {},
   "outputs": [],
   "source": []
  },
  {
   "cell_type": "code",
   "execution_count": null,
   "id": "3fabef53-51da-4947-abe5-2f9acf7d5193",
   "metadata": {},
   "outputs": [],
   "source": []
  },
  {
   "cell_type": "code",
   "execution_count": null,
   "id": "7b8ef694-2b3d-46ab-a589-abd9ab8513f9",
   "metadata": {},
   "outputs": [],
   "source": []
  }
 ],
 "metadata": {
  "kernelspec": {
   "display_name": "Python 3 (ipykernel)",
   "language": "python",
   "name": "python3"
  },
  "language_info": {
   "codemirror_mode": {
    "name": "ipython",
    "version": 3
   },
   "file_extension": ".py",
   "mimetype": "text/x-python",
   "name": "python",
   "nbconvert_exporter": "python",
   "pygments_lexer": "ipython3",
   "version": "3.10.9"
  }
 },
 "nbformat": 4,
 "nbformat_minor": 5
}
